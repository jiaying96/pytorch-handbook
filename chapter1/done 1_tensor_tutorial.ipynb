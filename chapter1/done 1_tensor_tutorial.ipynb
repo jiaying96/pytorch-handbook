{
 "cells": [
  {
   "cell_type": "code",
   "execution_count": 10,
   "metadata": {},
   "outputs": [],
   "source": [
    "%matplotlib inline"
   ]
  },
  {
   "cell_type": "markdown",
   "metadata": {},
   "source": [
    "\n",
    "PyTorch是什么?\n",
    "================\n",
    "\n",
    "基于Python的科学计算包，服务于以下两种场景:\n",
    "\n",
    "-  作为NumPy的替代品，可以使用GPU的强大计算能力\n",
    "-  提供最大的灵活性和高速的深度学习研究平台\n",
    "    \n",
    "\n",
    "开始\n",
    "---------------\n",
    "\n",
    "Tensors（张量）\n",
    "\n",
    "^^^^^^^\n",
    "\n",
    "Tensors与Numpy中的 ndarrays类似，但是在PyTorch中\n",
    "Tensors 可以使用GPU进行计算.\n",
    "\n"
   ]
  },
  {
   "cell_type": "code",
   "execution_count": 11,
   "metadata": {},
   "outputs": [],
   "source": [
    "from __future__ import print_function\n",
    "import torch"
   ]
  },
  {
   "cell_type": "code",
   "execution_count": 12,
   "metadata": {},
   "outputs": [
    {
     "name": "stdout",
     "output_type": "stream",
     "text": [
      "tensor([[0.0000e+00, 0.0000e+00, 0.0000e+00],\n",
      "        [0.0000e+00, 0.0000e+00, 0.0000e+00],\n",
      "        [0.0000e+00, 0.0000e+00, 0.0000e+00],\n",
      "        [0.0000e+00, 1.8105e-42, 0.0000e+00],\n",
      "        [0.0000e+00, 1.8567e-01, 0.0000e+00]])\n"
     ]
    }
   ],
   "source": [
    "#创建一个 5x3 矩阵, 但是未初始化:\n",
    "#不加初始化地构建矩阵，使用torch.empty(row, column)\n",
    "x = torch.empty(5, 3)\n",
    "print(x)"
   ]
  },
  {
   "cell_type": "code",
   "execution_count": 13,
   "metadata": {},
   "outputs": [
    {
     "name": "stdout",
     "output_type": "stream",
     "text": [
      "tensor([[0.7760, 0.1915, 0.6994],\n",
      "        [0.5116, 0.1811, 0.9788],\n",
      "        [0.4263, 0.8539, 0.8947],\n",
      "        [0.4986, 0.0187, 0.1371],\n",
      "        [0.6784, 0.6641, 0.1878]])\n"
     ]
    }
   ],
   "source": [
    "#创建一个随机初始化的矩阵:(row, column)\n",
    "x = torch.rand(5, 3)\n",
    "print(x)"
   ]
  },
  {
   "cell_type": "code",
   "execution_count": 14,
   "metadata": {},
   "outputs": [
    {
     "name": "stdout",
     "output_type": "stream",
     "text": [
      "tensor([[0, 0, 0],\n",
      "        [0, 0, 0],\n",
      "        [0, 0, 0],\n",
      "        [0, 0, 0],\n",
      "        [0, 0, 0]])\n"
     ]
    }
   ],
   "source": [
    "#创建一个0填充的矩阵，数据类型为long:\n",
    "x = torch.zeros(5, 3, dtype=torch.long)\n",
    "print(x)\n",
    "\n"
   ]
  },
  {
   "cell_type": "code",
   "execution_count": 15,
   "metadata": {},
   "outputs": [
    {
     "name": "stdout",
     "output_type": "stream",
     "text": [
      "tensor([5.5000, 3.0000])\n"
     ]
    }
   ],
   "source": [
    "#创建tensor并使用现有数据初始化:\n",
    "x = torch.tensor([5.5, 3])\n",
    "print(x)"
   ]
  },
  {
   "cell_type": "code",
   "execution_count": 17,
   "metadata": {},
   "outputs": [
    {
     "name": "stdout",
     "output_type": "stream",
     "text": [
      "tensor([[1., 1., 1.],\n",
      "        [1., 1., 1.],\n",
      "        [1., 1., 1.],\n",
      "        [1., 1., 1.],\n",
      "        [1., 1., 1.]], dtype=torch.float64)\n",
      "tensor([[ 0.0794, -0.7155, -1.0055],\n",
      "        [ 1.1701, -0.9484,  1.5951],\n",
      "        [ 0.1815, -0.9640,  0.6688],\n",
      "        [-0.1108,  1.3464,  0.4735],\n",
      "        [ 0.7086, -0.2201,  0.0668]])\n"
     ]
    }
   ],
   "source": [
    "#根据现有的张量创建张量。 这些方法将重用输入张量的属性，例如， dtype，除非设置新的值进行覆盖\n",
    "x = x.new_ones(5, 3, dtype=torch.double)      # new_* 方法来创建对象\n",
    "print(x)\n",
    "\n",
    "x = torch.randn_like(x, dtype=torch.float)    # 覆盖 dtype!\n",
    "print(x)                                      #  对象的size 是相同的，只是值和类型发生了变化"
   ]
  },
  {
   "cell_type": "code",
   "execution_count": 23,
   "metadata": {},
   "outputs": [
    {
     "name": "stdout",
     "output_type": "stream",
     "text": [
      "torch.Size([5, 3])\n"
     ]
    }
   ],
   "source": [
    "#获取 size\n",
    "#译者注：使用size方法与Numpy的shape属性返回的相同，张量也支持shape属性，后面会详细介绍\n",
    "print(x.size())\n",
    "#``torch.Size`` 返回值是 tuple类型, 所以它支持tuple类型的所有操作.\n"
   ]
  },
  {
   "cell_type": "code",
   "execution_count": 26,
   "metadata": {},
   "outputs": [
    {
     "name": "stdout",
     "output_type": "stream",
     "text": [
      "x\n",
      "tensor([[ 0.0794, -0.7155, -1.0055],\n",
      "        [ 1.1701, -0.9484,  1.5951],\n",
      "        [ 0.1815, -0.9640,  0.6688],\n",
      "        [-0.1108,  1.3464,  0.4735],\n",
      "        [ 0.7086, -0.2201,  0.0668]])\n",
      "y\n",
      "tensor([[0.2891, 0.5321, 0.7848],\n",
      "        [0.1531, 0.2729, 0.3217],\n",
      "        [0.9508, 0.9820, 0.5430],\n",
      "        [0.6174, 0.7694, 0.1152],\n",
      "        [0.1231, 0.6644, 0.4844]])\n",
      "x + y\n",
      "tensor([[ 0.3685, -0.1834, -0.2207],\n",
      "        [ 1.3231, -0.6755,  1.9168],\n",
      "        [ 1.1323,  0.0180,  1.2118],\n",
      "        [ 0.5066,  2.1158,  0.5887],\n",
      "        [ 0.8317,  0.4443,  0.5512]])\n"
     ]
    }
   ],
   "source": [
    "# 加法操作\n",
    "y = torch.rand(5, 3)\n",
    "\n",
    "print (\"x\")\n",
    "print (x)\n",
    "print(\"y\")\n",
    "print (y)\n",
    "print(\"x + y\")\n",
    "print(x + y)"
   ]
  },
  {
   "cell_type": "code",
   "execution_count": 28,
   "metadata": {},
   "outputs": [
    {
     "name": "stdout",
     "output_type": "stream",
     "text": [
      "x\n",
      "tensor([[ 0.0794, -0.7155, -1.0055],\n",
      "        [ 1.1701, -0.9484,  1.5951],\n",
      "        [ 0.1815, -0.9640,  0.6688],\n",
      "        [-0.1108,  1.3464,  0.4735],\n",
      "        [ 0.7086, -0.2201,  0.0668]])\n",
      "y\n",
      "tensor([[0.2891, 0.5321, 0.7848],\n",
      "        [0.1531, 0.2729, 0.3217],\n",
      "        [0.9508, 0.9820, 0.5430],\n",
      "        [0.6174, 0.7694, 0.1152],\n",
      "        [0.1231, 0.6644, 0.4844]])\n",
      "tensor([[ 0.3685, -0.1834, -0.2207],\n",
      "        [ 1.3231, -0.6755,  1.9168],\n",
      "        [ 1.1323,  0.0180,  1.2118],\n",
      "        [ 0.5066,  2.1158,  0.5887],\n",
      "        [ 0.8317,  0.4443,  0.5512]])\n"
     ]
    }
   ],
   "source": [
    "#加法2\n",
    "print (\"x\")\n",
    "print (x)\n",
    "print(\"y\")\n",
    "print (y)\n",
    "print(torch.add(x, y))"
   ]
  },
  {
   "cell_type": "code",
   "execution_count": 29,
   "metadata": {},
   "outputs": [
    {
     "name": "stdout",
     "output_type": "stream",
     "text": [
      "x\n",
      "tensor([[ 0.0794, -0.7155, -1.0055],\n",
      "        [ 1.1701, -0.9484,  1.5951],\n",
      "        [ 0.1815, -0.9640,  0.6688],\n",
      "        [-0.1108,  1.3464,  0.4735],\n",
      "        [ 0.7086, -0.2201,  0.0668]])\n",
      "y\n",
      "tensor([[0.2891, 0.5321, 0.7848],\n",
      "        [0.1531, 0.2729, 0.3217],\n",
      "        [0.9508, 0.9820, 0.5430],\n",
      "        [0.6174, 0.7694, 0.1152],\n",
      "        [0.1231, 0.6644, 0.4844]])\n",
      "result\n",
      "tensor([[ 0.3685, -0.1834, -0.2207],\n",
      "        [ 1.3231, -0.6755,  1.9168],\n",
      "        [ 1.1323,  0.0180,  1.2118],\n",
      "        [ 0.5066,  2.1158,  0.5887],\n",
      "        [ 0.8317,  0.4443,  0.5512]])\n"
     ]
    }
   ],
   "source": [
    "#提供输出tensor作为参数\n",
    "print (\"x\")\n",
    "print (x)\n",
    "print(\"y\")\n",
    "print (y)\n",
    "result=torch.empty(5,3)\n",
    "torch.add(x,y,out=result)\n",
    "print(\"result\")\n",
    "print(result)"
   ]
  },
  {
   "cell_type": "code",
   "execution_count": 32,
   "metadata": {},
   "outputs": [
    {
     "name": "stdout",
     "output_type": "stream",
     "text": [
      "x\n",
      "tensor([[ 0.0794, -0.7155, -1.0055],\n",
      "        [ 1.1701, -0.9484,  1.5951],\n",
      "        [ 0.1815, -0.9640,  0.6688],\n",
      "        [-0.1108,  1.3464,  0.4735],\n",
      "        [ 0.7086, -0.2201,  0.0668]])\n",
      "y\n",
      "tensor([[ 0.4479, -0.8989, -1.2263],\n",
      "        [ 2.4932, -1.6239,  3.5119],\n",
      "        [ 1.3137, -0.9460,  1.8807],\n",
      "        [ 0.3958,  3.4623,  1.0622],\n",
      "        [ 1.5404,  0.2242,  0.6180]])\n",
      "y\n",
      "tensor([[ 5.2734e-01, -1.6145e+00, -2.2318e+00],\n",
      "        [ 3.6632e+00, -2.5724e+00,  5.1069e+00],\n",
      "        [ 1.4952e+00, -1.9100e+00,  2.5495e+00],\n",
      "        [ 2.8495e-01,  4.8087e+00,  1.5357e+00],\n",
      "        [ 2.2490e+00,  4.0342e-03,  6.8480e-01]])\n"
     ]
    }
   ],
   "source": [
    "#替换\n",
    "# adds x to y\n",
    "print (\"x\")\n",
    "print (x)\n",
    "print(\"y\")\n",
    "print (y)\n",
    "y.add_(x)\n",
    "print(\"y\")\n",
    "print(y)\n",
    "#Note 任何 以``_`` 结尾的操作都会用结果替换原变量. 例如: ``x.copy_(y)``, ``x.t_()``, 都会改变 ``x``."
   ]
  },
  {
   "cell_type": "markdown",
   "metadata": {},
   "source": [
    "<div class=\"alert alert-info\"><h4>Note</h4><p>任何 以``_`` 结尾的操作都会用结果替换原变量.\n",
    "    例如: ``x.copy_(y)``, ``x.t_()``, 都会改变 ``x``.</p></div>\n",
    "\n",
    "你可以使用与NumPy索引方式相同的操作来进行对张量的操作\n",
    "\n"
   ]
  },
  {
   "cell_type": "code",
   "execution_count": 36,
   "metadata": {},
   "outputs": [
    {
     "name": "stdout",
     "output_type": "stream",
     "text": [
      "x\n",
      "tensor([[ 0.0794, -0.7155, -1.0055],\n",
      "        [ 1.1701, -0.9484,  1.5951],\n",
      "        [ 0.1815, -0.9640,  0.6688],\n",
      "        [-0.1108,  1.3464,  0.4735],\n",
      "        [ 0.7086, -0.2201,  0.0668]])\n",
      "tensor([-0.7155, -0.9484, -0.9640,  1.3464, -0.2201])\n",
      "tensor([ 1.1701, -0.9484,  1.5951])\n",
      "tensor([1.1701])\n"
     ]
    }
   ],
   "source": [
    "#你可以使用与NumPy索引方式相同的操作来进行对张量的操作\n",
    "print(\"x\")\n",
    "print(x)\n",
    "print(x[:, 1]) #第2列\n",
    "print(x[1, :])  #第2行 \n",
    "print(x[1, 0:1])  #第1+1行 y索引[0.1)"
   ]
  },
  {
   "cell_type": "code",
   "execution_count": 37,
   "metadata": {},
   "outputs": [
    {
     "name": "stdout",
     "output_type": "stream",
     "text": [
      "torch.Size([4, 4]) torch.Size([16]) torch.Size([2, 8])\n"
     ]
    }
   ],
   "source": [
    "# torch.view: 可以改变张量的维度和大小\n",
    "# 译者注：torch.view 与Numpy的reshape类似\n",
    "x = torch.randn(4, 4)\n",
    "y = x.view(16)\n",
    "z = x.view(-1, 8)  #  size -1 从其他维度推断\n",
    "print(x.size(), y.size(), z.size())"
   ]
  },
  {
   "cell_type": "code",
   "execution_count": 38,
   "metadata": {},
   "outputs": [
    {
     "name": "stdout",
     "output_type": "stream",
     "text": [
      "tensor([-1.3088])\n",
      "-1.308803915977478\n"
     ]
    }
   ],
   "source": [
    "x = torch.randn(1)\n",
    "print(x)\n",
    "#如果你有只有一个元素的张量，使用.item()来得到Python数据类型的数值\n",
    "print(x.item())"
   ]
  },
  {
   "cell_type": "markdown",
   "metadata": {},
   "source": [
    "**Read later:**\n",
    "\n",
    "\n",
    "  100+ Tensor operations, including transposing, indexing, slicing,\n",
    "  mathematical operations, linear algebra, random numbers, etc.,\n",
    "  are described\n",
    "  `here <https://pytorch.org/docs/torch>`_.\n",
    "\n",
    "NumPy 转换\n",
    "------------\n",
    "\n",
    "Converting a Torch Tensor to a NumPy array and vice versa is a breeze.\n",
    "\n",
    "The Torch Tensor and NumPy array will share their underlying memory\n",
    "locations, and changing one will change the other.\n",
    "\n",
    "Converting a Torch Tensor to a NumPy Array\n",
    "^^^^^^^^^^^^^^^^^^^^^^^^^^^^^^^^^^^^^^^^^^\n",
    "\n"
   ]
  },
  {
   "cell_type": "code",
   "execution_count": 39,
   "metadata": {},
   "outputs": [
    {
     "name": "stdout",
     "output_type": "stream",
     "text": [
      "tensor([1., 1., 1., 1., 1.])\n",
      "tensor([1, 1, 1, 1, 1])\n"
     ]
    }
   ],
   "source": [
    "a = torch.ones(5)\n",
    "print(a)\n",
    "aa = torch.ones(5,dtype=torch.long)\n",
    "print(aa)"
   ]
  },
  {
   "cell_type": "code",
   "execution_count": 41,
   "metadata": {},
   "outputs": [
    {
     "name": "stdout",
     "output_type": "stream",
     "text": [
      "[2. 2. 2. 2. 2.]\n"
     ]
    }
   ],
   "source": [
    "b = a.numpy()\n",
    "print(b)"
   ]
  },
  {
   "cell_type": "markdown",
   "metadata": {},
   "source": [
    "See how the numpy array changed in value.\n",
    "\n"
   ]
  },
  {
   "cell_type": "code",
   "execution_count": 42,
   "metadata": {},
   "outputs": [
    {
     "name": "stdout",
     "output_type": "stream",
     "text": [
      "tensor([2., 2., 2., 2., 2.])\n",
      "tensor([3., 3., 3., 3., 3.])\n",
      "[3. 3. 3. 3. 3.]\n"
     ]
    }
   ],
   "source": [
    "print(a)\n",
    "a.add_(1)\n",
    "print(a)\n",
    "print(b)"
   ]
  },
  {
   "cell_type": "markdown",
   "metadata": {},
   "source": [
    " NumPy Array 转化成 Torch Tensor\n",
    "\n",
    "^^^^^^^^^^^^^^^^^^^^^^^^^^^^^^^^^^^^^^\n",
    "\n",
    "使用from_numpy自动转化\n",
    "\n"
   ]
  },
  {
   "cell_type": "code",
   "execution_count": 44,
   "metadata": {},
   "outputs": [
    {
     "name": "stdout",
     "output_type": "stream",
     "text": [
      "[2. 2. 2. 2. 2.]\n",
      "tensor([2., 2., 2., 2., 2.], dtype=torch.float64)\n"
     ]
    }
   ],
   "source": [
    "import numpy as np\n",
    "a = np.ones(5)\n",
    "b = torch.from_numpy(a)  #默认 dtype=torch.float64\n",
    "np.add(a, 1, out=a)\n",
    "print(a)\n",
    "print(b)"
   ]
  },
  {
   "cell_type": "markdown",
   "metadata": {},
   "source": [
    "\n",
    "所有的 Tensor 类型默认都是基于CPU， CharTensor 类型不支持到\n",
    "NumPy 的转换.\n",
    "CUDA 张量\n",
    "------------\n",
    "\n",
    "使用``.to`` 方法 可以将Tensor移动到任何设备中\n",
    "\n"
   ]
  },
  {
   "cell_type": "code",
   "execution_count": 45,
   "metadata": {
    "scrolled": true
   },
   "outputs": [],
   "source": [
    "# is_available 函数判断是否有cuda可以使用\n",
    "# ``torch.device``将张量移动到指定的设备中\n",
    "if torch.cuda.is_available():\n",
    "    device = torch.device(\"cuda\")          # a CUDA 设备对象\n",
    "    y = torch.ones_like(x, device=device)  # 直接从GPU创建张量\n",
    "    x = x.to(device)                       # 或者直接使用``.to(\"cuda\")``将张量移动到cuda中\n",
    "    z = x + y\n",
    "    print(z)\n",
    "    print(z.to(\"cpu\", torch.double))       # ``.to`` 也会对变量的类型做更改"
   ]
  },
  {
   "cell_type": "code",
   "execution_count": null,
   "metadata": {},
   "outputs": [],
   "source": []
  },
  {
   "cell_type": "code",
   "execution_count": null,
   "metadata": {},
   "outputs": [],
   "source": []
  }
 ],
 "metadata": {
  "kernelspec": {
   "display_name": "pytorch",
   "language": "python",
   "name": "pytorch_exericise"
  },
  "language_info": {
   "codemirror_mode": {
    "name": "ipython",
    "version": 3
   },
   "file_extension": ".py",
   "mimetype": "text/x-python",
   "name": "python",
   "nbconvert_exporter": "python",
   "pygments_lexer": "ipython3",
   "version": "3.6.8"
  }
 },
 "nbformat": 4,
 "nbformat_minor": 1
}
